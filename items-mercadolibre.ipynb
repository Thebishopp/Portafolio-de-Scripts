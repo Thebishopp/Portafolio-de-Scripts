{
 "cells": [
  {
   "cell_type": "markdown",
   "id": "a9d307e6",
   "metadata": {
    "papermill": {
     "duration": 0.015177,
     "end_time": "2021-11-05T12:52:37.275640",
     "exception": false,
     "start_time": "2021-11-05T12:52:37.260463",
     "status": "completed"
    },
    "tags": []
   },
   "source": [
    "Importación de librerias"
   ]
  },
  {
   "cell_type": "code",
   "execution_count": 1,
   "id": "1cb713cc",
   "metadata": {
    "_cell_guid": "13510b6a-c7f3-487d-9104-a7807e555d13",
    "_uuid": "13723b5c-58f9-4e15-82c9-9b7e4a4f1467",
    "execution": {
     "iopub.execute_input": "2021-11-05T12:52:37.307828Z",
     "iopub.status.busy": "2021-11-05T12:52:37.307125Z",
     "iopub.status.idle": "2021-11-05T12:52:37.315260Z",
     "shell.execute_reply": "2021-11-05T12:52:37.315863Z",
     "shell.execute_reply.started": "2021-11-05T12:43:04.240414Z"
    },
    "jupyter": {
     "outputs_hidden": false
    },
    "papermill": {
     "duration": 0.029445,
     "end_time": "2021-11-05T12:52:37.316183",
     "exception": false,
     "start_time": "2021-11-05T12:52:37.286738",
     "status": "completed"
    },
    "tags": []
   },
   "outputs": [],
   "source": [
    "import urllib.request, json\n",
    "import pandas as pd\n",
    "import requests as re"
   ]
  },
  {
   "cell_type": "markdown",
   "id": "c4b24d6d",
   "metadata": {
    "papermill": {
     "duration": 0.009427,
     "end_time": "2021-11-05T12:52:37.334961",
     "exception": false,
     "start_time": "2021-11-05T12:52:37.325534",
     "status": "completed"
    },
    "tags": []
   },
   "source": [
    "Función para realizar el primer scrape de la API para transformar el json en un DataFrame y por úlitmo, exportarlo en un .csv. \n",
    "La función requiere de tres variables:\n",
    "* item = string con el término de busqueda que queremos realizar. ex: \"smartphone\", \"Apple\", \"Chromecast\".\n",
    "* category = string con el category id que querramos buscar. ex: \"MLA352001\" para la categoría \"Media  Streaming\"\n",
    "* csvname = el nombre que le queramos dar al archivo *.csv, solo el nombre no hay que agregar la extensión de archivo."
   ]
  },
  {
   "cell_type": "code",
   "execution_count": 2,
   "id": "2bbb795a",
   "metadata": {
    "execution": {
     "iopub.execute_input": "2021-11-05T12:52:37.359499Z",
     "iopub.status.busy": "2021-11-05T12:52:37.358783Z",
     "iopub.status.idle": "2021-11-05T12:52:37.366518Z",
     "shell.execute_reply": "2021-11-05T12:52:37.367282Z",
     "shell.execute_reply.started": "2021-11-05T12:43:04.247977Z"
    },
    "papermill": {
     "duration": 0.023253,
     "end_time": "2021-11-05T12:52:37.367538",
     "exception": false,
     "start_time": "2021-11-05T12:52:37.344285",
     "status": "completed"
    },
    "tags": []
   },
   "outputs": [],
   "source": [
    "def scrape_to_df(item, category, csvname):\n",
    "    with urllib.request.urlopen(\"https://api.mercadolibre.com/sites/MLA/search?category={0}&q={1}#json\".format(category, item)) as url:\n",
    "        data = json.loads(url.read().decode())\n",
    "        df = pd.json_normalize(data[\"results\"])\n",
    "        df = pd.DataFrame(df)\n",
    "        df.to_csv(\"{0}.csv\".format(csvname))\n",
    "        return df"
   ]
  },
  {
   "cell_type": "markdown",
   "id": "510480c1",
   "metadata": {
    "papermill": {
     "duration": 0.010083,
     "end_time": "2021-11-05T12:52:37.392937",
     "exception": false,
     "start_time": "2021-11-05T12:52:37.382854",
     "status": "completed"
    },
    "tags": []
   },
   "source": [
    "Realizamos el primer scrape con los DataFrames de los items a analizar. Al llamar la función con una variable, la misma se convierte en un DataFrame."
   ]
  },
  {
   "cell_type": "code",
   "execution_count": 3,
   "id": "34440adc",
   "metadata": {
    "execution": {
     "iopub.execute_input": "2021-11-05T12:52:37.420210Z",
     "iopub.status.busy": "2021-11-05T12:52:37.419394Z",
     "iopub.status.idle": "2021-11-05T12:52:39.978481Z",
     "shell.execute_reply": "2021-11-05T12:52:39.979049Z",
     "shell.execute_reply.started": "2021-11-05T12:43:04.264415Z"
    },
    "papermill": {
     "duration": 2.576835,
     "end_time": "2021-11-05T12:52:39.979244",
     "exception": false,
     "start_time": "2021-11-05T12:52:37.402409",
     "status": "completed"
    },
    "tags": []
   },
   "outputs": [
    {
     "data": {
      "text/html": [
       "<div>\n",
       "<style scoped>\n",
       "    .dataframe tbody tr th:only-of-type {\n",
       "        vertical-align: middle;\n",
       "    }\n",
       "\n",
       "    .dataframe tbody tr th {\n",
       "        vertical-align: top;\n",
       "    }\n",
       "\n",
       "    .dataframe thead th {\n",
       "        text-align: right;\n",
       "    }\n",
       "</style>\n",
       "<table border=\"1\" class=\"dataframe\">\n",
       "  <thead>\n",
       "    <tr style=\"text-align: right;\">\n",
       "      <th></th>\n",
       "      <th>id</th>\n",
       "      <th>site_id</th>\n",
       "      <th>title</th>\n",
       "      <th>price</th>\n",
       "      <th>sale_price</th>\n",
       "      <th>currency_id</th>\n",
       "      <th>available_quantity</th>\n",
       "      <th>sold_quantity</th>\n",
       "      <th>buying_mode</th>\n",
       "      <th>listing_type_id</th>\n",
       "      <th>...</th>\n",
       "      <th>seller_address.zip_code</th>\n",
       "      <th>seller_address.country.id</th>\n",
       "      <th>seller_address.country.name</th>\n",
       "      <th>seller_address.state.id</th>\n",
       "      <th>seller_address.state.name</th>\n",
       "      <th>seller_address.city.id</th>\n",
       "      <th>seller_address.city.name</th>\n",
       "      <th>seller_address.latitude</th>\n",
       "      <th>seller_address.longitude</th>\n",
       "      <th>differential_pricing.id</th>\n",
       "    </tr>\n",
       "  </thead>\n",
       "  <tbody>\n",
       "    <tr>\n",
       "      <th>0</th>\n",
       "      <td>MLA870831824</td>\n",
       "      <td>MLA</td>\n",
       "      <td>Google Chromecast  Full Hd  Carbón</td>\n",
       "      <td>5699.05</td>\n",
       "      <td>None</td>\n",
       "      <td>ARS</td>\n",
       "      <td>302</td>\n",
       "      <td>20054</td>\n",
       "      <td>buy_it_now</td>\n",
       "      <td>gold_special</td>\n",
       "      <td>...</td>\n",
       "      <td></td>\n",
       "      <td>AR</td>\n",
       "      <td>Argentina</td>\n",
       "      <td>AR-C</td>\n",
       "      <td>Capital Federal</td>\n",
       "      <td>QVItQ1BhcnF1ZSBDaGFz</td>\n",
       "      <td>Parque Chas</td>\n",
       "      <td></td>\n",
       "      <td></td>\n",
       "      <td>NaN</td>\n",
       "    </tr>\n",
       "  </tbody>\n",
       "</table>\n",
       "<p>1 rows × 97 columns</p>\n",
       "</div>"
      ],
      "text/plain": [
       "             id site_id                                title    price  \\\n",
       "0  MLA870831824     MLA   Google Chromecast  Full Hd  Carbón  5699.05   \n",
       "\n",
       "  sale_price currency_id  available_quantity  sold_quantity buying_mode  \\\n",
       "0       None         ARS                 302          20054  buy_it_now   \n",
       "\n",
       "  listing_type_id  ... seller_address.zip_code seller_address.country.id  \\\n",
       "0    gold_special  ...                                                AR   \n",
       "\n",
       "  seller_address.country.name seller_address.state.id  \\\n",
       "0                   Argentina                    AR-C   \n",
       "\n",
       "  seller_address.state.name  seller_address.city.id seller_address.city.name  \\\n",
       "0           Capital Federal    QVItQ1BhcnF1ZSBDaGFz              Parque Chas   \n",
       "\n",
       "   seller_address.latitude seller_address.longitude  differential_pricing.id  \n",
       "0                                                                        NaN  \n",
       "\n",
       "[1 rows x 97 columns]"
      ]
     },
     "execution_count": 3,
     "metadata": {},
     "output_type": "execute_result"
    }
   ],
   "source": [
    "chromecast_df = scrape_to_df(\"chromecast\", \"MLA352001\", \"chromecast\")\n",
    "xiaomi_df = scrape_to_df(\"xiaomi\", \"MLA352001\", \"xiaomi_tv\")\n",
    "appletv_df = scrape_to_df(\"apple&tv\", \"MLA352001\", \"appletv\")\n",
    "chromecast_df.head(1)"
   ]
  },
  {
   "cell_type": "markdown",
   "id": "f4a8dc31",
   "metadata": {
    "papermill": {
     "duration": 0.009897,
     "end_time": "2021-11-05T12:52:40.001204",
     "exception": false,
     "start_time": "2021-11-05T12:52:39.991307",
     "status": "completed"
    },
    "tags": []
   },
   "source": [
    "Segunda función para realizar la consulta de los items conseguidos en los DataFrames. La segunda función tiene dos variables:\n",
    "* ids = se llama a la columna \"id\" con df[\"id\"], esto permite iterar en un for loop a cada valor item_id.\n",
    "* df_out = nombre del DataFrame donde almacenamos los datos. Primero hay que crear el Dataframe vacio con df = pd.DataFrame()"
   ]
  },
  {
   "cell_type": "code",
   "execution_count": 4,
   "id": "e6764d84",
   "metadata": {
    "execution": {
     "iopub.execute_input": "2021-11-05T12:52:40.025948Z",
     "iopub.status.busy": "2021-11-05T12:52:40.025052Z",
     "iopub.status.idle": "2021-11-05T12:52:40.029570Z",
     "shell.execute_reply": "2021-11-05T12:52:40.030189Z",
     "shell.execute_reply.started": "2021-11-05T12:43:10.781361Z"
    },
    "papermill": {
     "duration": 0.018259,
     "end_time": "2021-11-05T12:52:40.030367",
     "exception": false,
     "start_time": "2021-11-05T12:52:40.012108",
     "status": "completed"
    },
    "tags": []
   },
   "outputs": [],
   "source": [
    "def scrape_items (ids, df_out):\n",
    "    for i in ids:\n",
    "        iter_get = re.get(\"https://api.mercadolibre.com/items/{0}\".format(i))\n",
    "        response = iter_get.json() \n",
    "        df = pd.json_normalize(response)\n",
    "        df_out = df_out.append(df)\n",
    "    return df_out"
   ]
  },
  {
   "cell_type": "markdown",
   "id": "9bc96610",
   "metadata": {
    "papermill": {
     "duration": 0.009729,
     "end_time": "2021-11-05T12:52:40.050513",
     "exception": false,
     "start_time": "2021-11-05T12:52:40.040784",
     "status": "completed"
    },
    "tags": []
   },
   "source": [
    "Para utilizar la función correctamente debemos seguir los siguientes pasos:\n",
    "1. crear el primer DataFrame vacio\n",
    "2. llamar a la funcion"
   ]
  },
  {
   "cell_type": "code",
   "execution_count": 5,
   "id": "d1f30ab9",
   "metadata": {
    "execution": {
     "iopub.execute_input": "2021-11-05T12:52:40.081038Z",
     "iopub.status.busy": "2021-11-05T12:52:40.080279Z",
     "iopub.status.idle": "2021-11-05T12:53:20.803843Z",
     "shell.execute_reply": "2021-11-05T12:53:20.803131Z",
     "shell.execute_reply.started": "2021-11-05T12:49:14.983688Z"
    },
    "papermill": {
     "duration": 40.743577,
     "end_time": "2021-11-05T12:53:20.803994",
     "exception": false,
     "start_time": "2021-11-05T12:52:40.060417",
     "status": "completed"
    },
    "tags": []
   },
   "outputs": [],
   "source": [
    "#Chromecast#\n",
    "chrome_items = pd.DataFrame()\n",
    "chrome_items = scrape_items(chromecast_df[\"id\"], chrome_items)\n",
    "#Xiami#\n",
    "xiaomi_items = pd.DataFrame()\n",
    "xiaomi_items = scrape_items(xiaomi_df[\"id\"], xiaomi_items)\n",
    "#Apple TV#\n",
    "appletv_items = pd.DataFrame()\n",
    "appletv_items = scrape_items(appletv_df[\"id\"], appletv_items)"
   ]
  },
  {
   "cell_type": "markdown",
   "id": "4fd1a2be",
   "metadata": {
    "papermill": {
     "duration": 0.01027,
     "end_time": "2021-11-05T12:53:20.824403",
     "exception": false,
     "start_time": "2021-11-05T12:53:20.814133",
     "status": "completed"
    },
    "tags": []
   },
   "source": [
    "Por último, exportamos los DataFrames en formato csv."
   ]
  },
  {
   "cell_type": "code",
   "execution_count": 6,
   "id": "5fc54f72",
   "metadata": {
    "execution": {
     "iopub.execute_input": "2021-11-05T12:53:20.853806Z",
     "iopub.status.busy": "2021-11-05T12:53:20.852565Z",
     "iopub.status.idle": "2021-11-05T12:53:20.968613Z",
     "shell.execute_reply": "2021-11-05T12:53:20.969205Z",
     "shell.execute_reply.started": "2021-11-05T12:52:03.401230Z"
    },
    "papermill": {
     "duration": 0.134001,
     "end_time": "2021-11-05T12:53:20.969406",
     "exception": false,
     "start_time": "2021-11-05T12:53:20.835405",
     "status": "completed"
    },
    "tags": []
   },
   "outputs": [],
   "source": [
    "chrome_items.to_csv(\"chromecast_items.csv\")\n",
    "xiaomi_items.to_csv(\"xiaomi_items.csv\")\n",
    "appletv_items.to_csv(\"appletv_items.csv\")"
   ]
  }
 ],
 "metadata": {
  "kernelspec": {
   "display_name": "Python 3",
   "language": "python",
   "name": "python3"
  },
  "language_info": {
   "codemirror_mode": {
    "name": "ipython",
    "version": 3
   },
   "file_extension": ".py",
   "mimetype": "text/x-python",
   "name": "python",
   "nbconvert_exporter": "python",
   "pygments_lexer": "ipython3",
   "version": "3.8.8"
  },
  "papermill": {
   "default_parameters": {},
   "duration": 54.837935,
   "end_time": "2021-11-05T12:53:21.690904",
   "environment_variables": {},
   "exception": null,
   "input_path": "__notebook__.ipynb",
   "output_path": "__notebook__.ipynb",
   "parameters": {},
   "start_time": "2021-11-05T12:52:26.852969",
   "version": "2.3.3"
  }
 },
 "nbformat": 4,
 "nbformat_minor": 5
}
