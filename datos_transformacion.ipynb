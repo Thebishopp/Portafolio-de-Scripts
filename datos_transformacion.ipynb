{
 "cells": [
  {
   "cell_type": "markdown",
   "id": "68ffdb1b-f285-439a-96d5-fd2e7a2c91a7",
   "metadata": {},
   "source": [
    "#### Carga y Transformación de datos\n",
    "##### En este notebook, cargamos los datasets históricos del precio de la acción de Mercado Libre y la cantidad de accesos a internet de la población argentina."
   ]
  },
  {
   "cell_type": "code",
   "execution_count": 1,
   "id": "2ff61c1c-4a4a-485d-a489-5472b45bc9da",
   "metadata": {},
   "outputs": [],
   "source": [
    "#Importación de librerias\n",
    "import pandas as pd\n",
    "import numpy as np\n",
    "from matplotlib import pyplot as plt\n",
    "from scipy import stats"
   ]
  },
  {
   "cell_type": "code",
   "execution_count": 2,
   "id": "6f361a90-979a-4a06-9037-f01c614ac3cd",
   "metadata": {},
   "outputs": [
    {
     "data": {
      "text/html": [
       "<div>\n",
       "<style scoped>\n",
       "    .dataframe tbody tr th:only-of-type {\n",
       "        vertical-align: middle;\n",
       "    }\n",
       "\n",
       "    .dataframe tbody tr th {\n",
       "        vertical-align: top;\n",
       "    }\n",
       "\n",
       "    .dataframe thead th {\n",
       "        text-align: right;\n",
       "    }\n",
       "</style>\n",
       "<table border=\"1\" class=\"dataframe\">\n",
       "  <thead>\n",
       "    <tr style=\"text-align: right;\">\n",
       "      <th></th>\n",
       "      <th>Fecha</th>\n",
       "      <th>Último</th>\n",
       "      <th>Apertura</th>\n",
       "      <th>Máximo</th>\n",
       "      <th>Mínimo</th>\n",
       "      <th>Vol.</th>\n",
       "      <th>% var.</th>\n",
       "    </tr>\n",
       "  </thead>\n",
       "  <tbody>\n",
       "    <tr>\n",
       "      <th>0</th>\n",
       "      <td>Nov 2021</td>\n",
       "      <td>1.629,76</td>\n",
       "      <td>1.487,47</td>\n",
       "      <td>1.705,14</td>\n",
       "      <td>1.471,77</td>\n",
       "      <td>939,60K</td>\n",
       "      <td>10,04%</td>\n",
       "    </tr>\n",
       "    <tr>\n",
       "      <th>1</th>\n",
       "      <td>Oct 2021</td>\n",
       "      <td>1.481,02</td>\n",
       "      <td>1.692,15</td>\n",
       "      <td>1.700,39</td>\n",
       "      <td>1.452,39</td>\n",
       "      <td>8,14M</td>\n",
       "      <td>-11,81%</td>\n",
       "    </tr>\n",
       "    <tr>\n",
       "      <th>2</th>\n",
       "      <td>Sep 2021</td>\n",
       "      <td>1.679,40</td>\n",
       "      <td>1.878,00</td>\n",
       "      <td>1.970,13</td>\n",
       "      <td>1.641,01</td>\n",
       "      <td>6,34M</td>\n",
       "      <td>-10,07%</td>\n",
       "    </tr>\n",
       "    <tr>\n",
       "      <th>3</th>\n",
       "      <td>Ago 2021</td>\n",
       "      <td>1.867,45</td>\n",
       "      <td>1.587,91</td>\n",
       "      <td>1.910,00</td>\n",
       "      <td>1.539,74</td>\n",
       "      <td>8,50M</td>\n",
       "      <td>19,04%</td>\n",
       "    </tr>\n",
       "    <tr>\n",
       "      <th>4</th>\n",
       "      <td>Jul 2021</td>\n",
       "      <td>1.568,70</td>\n",
       "      <td>1.554,39</td>\n",
       "      <td>1.651,80</td>\n",
       "      <td>1.471,23</td>\n",
       "      <td>5,89M</td>\n",
       "      <td>0,70%</td>\n",
       "    </tr>\n",
       "    <tr>\n",
       "      <th>...</th>\n",
       "      <td>...</td>\n",
       "      <td>...</td>\n",
       "      <td>...</td>\n",
       "      <td>...</td>\n",
       "      <td>...</td>\n",
       "      <td>...</td>\n",
       "      <td>...</td>\n",
       "    </tr>\n",
       "    <tr>\n",
       "      <th>138</th>\n",
       "      <td>May 2010</td>\n",
       "      <td>51,87</td>\n",
       "      <td>50,79</td>\n",
       "      <td>55,70</td>\n",
       "      <td>41,00</td>\n",
       "      <td>16,05M</td>\n",
       "      <td>2,88%</td>\n",
       "    </tr>\n",
       "    <tr>\n",
       "      <th>139</th>\n",
       "      <td>Abr 2010</td>\n",
       "      <td>50,42</td>\n",
       "      <td>48,64</td>\n",
       "      <td>54,88</td>\n",
       "      <td>46,30</td>\n",
       "      <td>12,80M</td>\n",
       "      <td>4,58%</td>\n",
       "    </tr>\n",
       "    <tr>\n",
       "      <th>140</th>\n",
       "      <td>Mar 2010</td>\n",
       "      <td>48,21</td>\n",
       "      <td>41,55</td>\n",
       "      <td>48,81</td>\n",
       "      <td>41,29</td>\n",
       "      <td>10,11M</td>\n",
       "      <td>17,19%</td>\n",
       "    </tr>\n",
       "    <tr>\n",
       "      <th>141</th>\n",
       "      <td>Feb 2010</td>\n",
       "      <td>41,14</td>\n",
       "      <td>38,51</td>\n",
       "      <td>42,40</td>\n",
       "      <td>35,50</td>\n",
       "      <td>16,67M</td>\n",
       "      <td>8,18%</td>\n",
       "    </tr>\n",
       "    <tr>\n",
       "      <th>142</th>\n",
       "      <td>Ene 2010</td>\n",
       "      <td>38,03</td>\n",
       "      <td>50,90</td>\n",
       "      <td>52,40</td>\n",
       "      <td>37,59</td>\n",
       "      <td>18,50M</td>\n",
       "      <td>-26,68%</td>\n",
       "    </tr>\n",
       "  </tbody>\n",
       "</table>\n",
       "<p>143 rows × 7 columns</p>\n",
       "</div>"
      ],
      "text/plain": [
       "        Fecha    Último  Apertura    Máximo    Mínimo     Vol.   % var.\n",
       "0    Nov 2021  1.629,76  1.487,47  1.705,14  1.471,77  939,60K   10,04%\n",
       "1    Oct 2021  1.481,02  1.692,15  1.700,39  1.452,39    8,14M  -11,81%\n",
       "2    Sep 2021  1.679,40  1.878,00  1.970,13  1.641,01    6,34M  -10,07%\n",
       "3    Ago 2021  1.867,45  1.587,91  1.910,00  1.539,74    8,50M   19,04%\n",
       "4    Jul 2021  1.568,70  1.554,39  1.651,80  1.471,23    5,89M    0,70%\n",
       "..        ...       ...       ...       ...       ...      ...      ...\n",
       "138  May 2010     51,87     50,79     55,70     41,00   16,05M    2,88%\n",
       "139  Abr 2010     50,42     48,64     54,88     46,30   12,80M    4,58%\n",
       "140  Mar 2010     48,21     41,55     48,81     41,29   10,11M   17,19%\n",
       "141  Feb 2010     41,14     38,51     42,40     35,50   16,67M    8,18%\n",
       "142  Ene 2010     38,03     50,90     52,40     37,59   18,50M  -26,68%\n",
       "\n",
       "[143 rows x 7 columns]"
      ]
     },
     "execution_count": 2,
     "metadata": {},
     "output_type": "execute_result"
    }
   ],
   "source": [
    "#Importamos el primer DataFrame del precio de MELI\n",
    "meli_stock = pd.read_csv(\"datasets/Datos históricos MELI.csv\")\n",
    "meli_stock"
   ]
  },
  {
   "cell_type": "markdown",
   "id": "ddbc2757-859f-43f3-8cd1-fef6ce72ce80",
   "metadata": {},
   "source": [
    "#### Transformamos los datos\n",
    "Al ser todos los atributos Strings, comezamos a usar sus métodos para luego transformalos en Int o Float"
   ]
  },
  {
   "cell_type": "code",
   "execution_count": 3,
   "id": "5ecce878-04f8-4aac-b962-af41e1b6bc13",
   "metadata": {},
   "outputs": [],
   "source": [
    "x = meli_stock[\"Fecha\"].str.slice(start=3)\n",
    "meli_stock[\"Fecha\"] = x"
   ]
  },
  {
   "cell_type": "code",
   "execution_count": 4,
   "id": "d66bb0f3-5d4c-4ed2-963e-ac637c974431",
   "metadata": {},
   "outputs": [
    {
     "name": "stderr",
     "output_type": "stream",
     "text": [
      "<ipython-input-4-f08c1598293c>:2: FutureWarning: The default value of regex will change from True to False in a future version. In addition, single character regular expressions will*not* be treated as literal strings when regex=True.\n",
      "  meli_stock[\"Último\"].str.replace(\".\", \"\")\n"
     ]
    },
    {
     "data": {
      "text/plain": [
       "0      1629,76\n",
       "1      1481,02\n",
       "2      1679,40\n",
       "3      1867,45\n",
       "4      1568,70\n",
       "        ...   \n",
       "138      51,87\n",
       "139      50,42\n",
       "140      48,21\n",
       "141      41,14\n",
       "142      38,03\n",
       "Name: Último, Length: 143, dtype: object"
      ]
     },
     "execution_count": 4,
     "metadata": {},
     "output_type": "execute_result"
    }
   ],
   "source": [
    "meli_stock[\"Fecha\"].astype(int)\n",
    "meli_stock[\"Último\"].str.replace(\".\", \"\")"
   ]
  },
  {
   "cell_type": "code",
   "execution_count": 5,
   "id": "08422c99-ab5f-49d0-bb8b-00f07a8d561c",
   "metadata": {},
   "outputs": [
    {
     "name": "stderr",
     "output_type": "stream",
     "text": [
      "<ipython-input-5-6b553726156c>:2: FutureWarning: The default value of regex will change from True to False in a future version. In addition, single character regular expressions will*not* be treated as literal strings when regex=True.\n",
      "  ultimo = ultimo.str.replace(\".\", \"\",)\n"
     ]
    }
   ],
   "source": [
    "ultimo = meli_stock[\"Último\"]\n",
    "ultimo = ultimo.str.replace(\".\", \"\",)\n",
    "ultimo = ultimo.str.replace(\",\", \".\")\n",
    "ultimo = ultimo.astype(float)\n",
    "meli_stock[\"Último\"] = ultimo"
   ]
  },
  {
   "cell_type": "markdown",
   "id": "be409719-1bfc-4c7a-ab05-1ac012a05b31",
   "metadata": {},
   "source": [
    "#### Agrupamos los precios en anuales promediando los trimestres"
   ]
  },
  {
   "cell_type": "code",
   "execution_count": 6,
   "id": "a89ad911-c12c-4e7a-bbe2-bd207c1f844a",
   "metadata": {},
   "outputs": [
    {
     "data": {
      "text/html": [
       "<div>\n",
       "<style scoped>\n",
       "    .dataframe tbody tr th:only-of-type {\n",
       "        vertical-align: middle;\n",
       "    }\n",
       "\n",
       "    .dataframe tbody tr th {\n",
       "        vertical-align: top;\n",
       "    }\n",
       "\n",
       "    .dataframe thead th {\n",
       "        text-align: right;\n",
       "    }\n",
       "</style>\n",
       "<table border=\"1\" class=\"dataframe\">\n",
       "  <thead>\n",
       "    <tr style=\"text-align: right;\">\n",
       "      <th></th>\n",
       "      <th>Último</th>\n",
       "    </tr>\n",
       "    <tr>\n",
       "      <th>Fecha</th>\n",
       "      <th></th>\n",
       "    </tr>\n",
       "  </thead>\n",
       "  <tbody>\n",
       "    <tr>\n",
       "      <th>2010</th>\n",
       "      <td>56.436667</td>\n",
       "    </tr>\n",
       "    <tr>\n",
       "      <th>2011</th>\n",
       "      <td>75.585833</td>\n",
       "    </tr>\n",
       "    <tr>\n",
       "      <th>2012</th>\n",
       "      <td>82.390833</td>\n",
       "    </tr>\n",
       "    <tr>\n",
       "      <th>2013</th>\n",
       "      <td>109.808333</td>\n",
       "    </tr>\n",
       "    <tr>\n",
       "      <th>2014</th>\n",
       "      <td>107.531667</td>\n",
       "    </tr>\n",
       "    <tr>\n",
       "      <th>2015</th>\n",
       "      <td>122.861667</td>\n",
       "    </tr>\n",
       "    <tr>\n",
       "      <th>2016</th>\n",
       "      <td>142.660833</td>\n",
       "    </tr>\n",
       "    <tr>\n",
       "      <th>2017</th>\n",
       "      <td>249.880000</td>\n",
       "    </tr>\n",
       "    <tr>\n",
       "      <th>2018</th>\n",
       "      <td>337.995000</td>\n",
       "    </tr>\n",
       "    <tr>\n",
       "      <th>2019</th>\n",
       "      <td>536.520000</td>\n",
       "    </tr>\n",
       "    <tr>\n",
       "      <th>2020</th>\n",
       "      <td>1000.570833</td>\n",
       "    </tr>\n",
       "    <tr>\n",
       "      <th>2021</th>\n",
       "      <td>1600.320909</td>\n",
       "    </tr>\n",
       "  </tbody>\n",
       "</table>\n",
       "</div>"
      ],
      "text/plain": [
       "            Último\n",
       "Fecha             \n",
       " 2010    56.436667\n",
       " 2011    75.585833\n",
       " 2012    82.390833\n",
       " 2013   109.808333\n",
       " 2014   107.531667\n",
       " 2015   122.861667\n",
       " 2016   142.660833\n",
       " 2017   249.880000\n",
       " 2018   337.995000\n",
       " 2019   536.520000\n",
       " 2020  1000.570833\n",
       " 2021  1600.320909"
      ]
     },
     "execution_count": 6,
     "metadata": {},
     "output_type": "execute_result"
    }
   ],
   "source": [
    "group_año = meli_stock[[\"Fecha\", \"Último\"]]\n",
    "a = group_año.groupby([\"Fecha\"]).mean().astype(float)\n",
    "a"
   ]
  },
  {
   "cell_type": "code",
   "execution_count": 7,
   "id": "dc944763-d81b-4eda-aaad-daa63dd9d0f1",
   "metadata": {},
   "outputs": [
    {
     "name": "stdout",
     "output_type": "stream",
     "text": [
      "[[ 107.53166667]\n",
      " [ 122.86166667]\n",
      " [ 142.66083333]\n",
      " [ 249.88      ]\n",
      " [ 337.995     ]\n",
      " [ 536.52      ]\n",
      " [1000.57083333]\n",
      " [1600.32090909]]\n"
     ]
    },
    {
     "data": {
      "text/plain": [
       "[<matplotlib.lines.Line2D at 0x1bfdb163310>]"
      ]
     },
     "execution_count": 7,
     "metadata": {},
     "output_type": "execute_result"
    },
    {
     "data": {
      "image/png": "[encoded data removed]",
      "text/plain": [
       "<Figure size 432x288 with 1 Axes>"
      ]
     },
     "metadata": {
      "needs_background": "light"
     },
     "output_type": "display_data"
    }
   ],
   "source": [
    "ult_15 = a[4:]\n",
    "X = ult_15.to_numpy()\n",
    "print(X)\n",
    "plt.plot(X)"
   ]
  },
  {
   "cell_type": "markdown",
   "id": "ccdccc82-ca19-49a7-9a96-d50a684396fb",
   "metadata": {},
   "source": [
    "## Acceso a internet cada 100 habitantes\n",
    "#####  •Vamos a utilizar el dataset de Penetración de internet cada 100 habitantes•"
   ]
  },
  {
   "cell_type": "code",
   "execution_count": 8,
   "id": "65abca6a-88b9-4e6c-a4e6-8852707736e4",
   "metadata": {},
   "outputs": [
    {
     "data": {
      "text/html": [
       "<div>\n",
       "<style scoped>\n",
       "    .dataframe tbody tr th:only-of-type {\n",
       "        vertical-align: middle;\n",
       "    }\n",
       "\n",
       "    .dataframe tbody tr th {\n",
       "        vertical-align: top;\n",
       "    }\n",
       "\n",
       "    .dataframe thead th {\n",
       "        text-align: right;\n",
       "    }\n",
       "</style>\n",
       "<table border=\"1\" class=\"dataframe\">\n",
       "  <thead>\n",
       "    <tr style=\"text-align: right;\">\n",
       "      <th></th>\n",
       "      <th>Accesos por cada 100 hab</th>\n",
       "    </tr>\n",
       "    <tr>\n",
       "      <th>Año</th>\n",
       "      <th></th>\n",
       "    </tr>\n",
       "  </thead>\n",
       "  <tbody>\n",
       "    <tr>\n",
       "      <th>2014</th>\n",
       "      <td>15.00</td>\n",
       "    </tr>\n",
       "    <tr>\n",
       "      <th>2015</th>\n",
       "      <td>16.00</td>\n",
       "    </tr>\n",
       "    <tr>\n",
       "      <th>2016</th>\n",
       "      <td>16.50</td>\n",
       "    </tr>\n",
       "    <tr>\n",
       "      <th>2017</th>\n",
       "      <td>17.50</td>\n",
       "    </tr>\n",
       "    <tr>\n",
       "      <th>2018</th>\n",
       "      <td>18.50</td>\n",
       "    </tr>\n",
       "    <tr>\n",
       "      <th>2019</th>\n",
       "      <td>19.50</td>\n",
       "    </tr>\n",
       "    <tr>\n",
       "      <th>2020</th>\n",
       "      <td>20.25</td>\n",
       "    </tr>\n",
       "    <tr>\n",
       "      <th>2021</th>\n",
       "      <td>21.00</td>\n",
       "    </tr>\n",
       "  </tbody>\n",
       "</table>\n",
       "</div>"
      ],
      "text/plain": [
       "      Accesos por cada 100 hab\n",
       "Año                           \n",
       "2014                     15.00\n",
       "2015                     16.00\n",
       "2016                     16.50\n",
       "2017                     17.50\n",
       "2018                     18.50\n",
       "2019                     19.50\n",
       "2020                     20.25\n",
       "2021                     21.00"
      ]
     },
     "execution_count": 8,
     "metadata": {},
     "output_type": "execute_result"
    }
   ],
   "source": [
    "pen_df = pd.read_csv(\"datasets/Internet_Penetracion.csv\")\n",
    "acc = pen_df[[\"Año\", \"Accesos por cada 100 hab\"]].groupby([\"Año\"]).mean()\n",
    "y = acc.reset_index()[\"Accesos por cada 100 hab\"].to_numpy()\n",
    "acc"
   ]
  },
  {
   "cell_type": "markdown",
   "id": "47dd8a87-1783-41e2-b83e-f5415964c53f",
   "metadata": {},
   "source": [
    "##### Realizamos ploteos teniendo en cuenta las dos variables"
   ]
  },
  {
   "cell_type": "code",
   "execution_count": 9,
   "id": "de10c4c9-4b4f-46e9-80ff-070b8880e54f",
   "metadata": {},
   "outputs": [
    {
     "data": {
      "text/plain": [
       "[<matplotlib.lines.Line2D at 0x1bfdb259370>]"
      ]
     },
     "execution_count": 9,
     "metadata": {},
     "output_type": "execute_result"
    },
    {
     "data": {
      "image/png": "[encoded data removed]",
      "text/plain": [
       "<Figure size 432x288 with 1 Axes>"
      ]
     },
     "metadata": {
      "needs_background": "light"
     },
     "output_type": "display_data"
    }
   ],
   "source": [
    "plt.scatter(y, X)\n",
    "plt.plot(y, X)"
   ]
  },
  {
   "cell_type": "markdown",
   "id": "37987843-ef90-43f1-b94c-45c1d6b20fcf",
   "metadata": {},
   "source": [
    "#### Guardamos ambos arrays en un DataFrame y exportamos"
   ]
  },
  {
   "cell_type": "code",
   "execution_count": 10,
   "id": "ceb10b8c-9bd8-4fea-8f3d-58b569d8151b",
   "metadata": {},
   "outputs": [],
   "source": [
    "output = pd.DataFrame(X, y)\n",
    "output.to_csv(\"out.csv\")"
   ]
  },
  {
   "cell_type": "code",
   "execution_count": 11,
   "id": "7a319a7b-dfc9-4954-8a36-6f957e5c01bf",
   "metadata": {},
   "outputs": [
    {
     "name": "stdout",
     "output_type": "stream",
     "text": [
      "[15.   16.   16.5  17.5  18.5  19.5  20.25 21.  ]\n"
     ]
    }
   ],
   "source": [
    "print(y)"
   ]
  },
  {
   "cell_type": "code",
   "execution_count": 12,
   "id": "4f6b5dbf-8eb3-4d4e-80c1-ebd59749b874",
   "metadata": {},
   "outputs": [
    {
     "data": {
      "image/png": "[encoded data removed]",
      "text/plain": [
       "<Figure size 432x288 with 1 Axes>"
      ]
     },
     "metadata": {
      "needs_background": "light"
     },
     "output_type": "display_data"
    }
   ],
   "source": [
    "plt.scatter(y, X)\n",
    "plt.xlabel('Accesos cada 100 habitantes')\n",
    "plt.ylabel(r'Precio (Último)')\n",
    "plt.savefig('scatter.png', dpi=300, bbox_inches='tight')"
   ]
  }
 ],
 "metadata": {
  "kernelspec": {
   "display_name": "Python 3",
   "language": "python",
   "name": "python3"
  },
  "language_info": {
   "codemirror_mode": {
    "name": "ipython",
    "version": 3
   },
   "file_extension": ".py",
   "mimetype": "text/x-python",
   "name": "python",
   "nbconvert_exporter": "python",
   "pygments_lexer": "ipython3",
   "version": "3.8.8"
  }
 },
 "nbformat": 4,
 "nbformat_minor": 5
}
