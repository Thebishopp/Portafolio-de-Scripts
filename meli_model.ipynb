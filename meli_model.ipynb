{
 "cells": [
  {
   "cell_type": "markdown",
   "id": "ad81796a-05a1-4b24-8adb-1fbb5ce6fddd",
   "metadata": {},
   "source": [
    "#### Calculo y Ploteo del modelo\n",
    "##### En este notebook, cargamos el dataset creado en el notebook_datos"
   ]
  },
  {
   "cell_type": "code",
   "execution_count": 1,
   "id": "1879f23b-6c1d-465b-b9cf-081f3a3f3cfa",
   "metadata": {},
   "outputs": [],
   "source": [
    "import pandas as pd\n",
    "import numpy as np\n",
    "import matplotlib.pyplot as plt\n",
    "import sklearn"
   ]
  },
  {
   "cell_type": "code",
   "execution_count": 2,
   "id": "8b946a3d-41ca-4ba8-aa1c-d409ea084a2c",
   "metadata": {},
   "outputs": [
    {
     "data": {
      "text/html": [
       "<div>\n",
       "<style scoped>\n",
       "    .dataframe tbody tr th:only-of-type {\n",
       "        vertical-align: middle;\n",
       "    }\n",
       "\n",
       "    .dataframe tbody tr th {\n",
       "        vertical-align: top;\n",
       "    }\n",
       "\n",
       "    .dataframe thead th {\n",
       "        text-align: right;\n",
       "    }\n",
       "</style>\n",
       "<table border=\"1\" class=\"dataframe\">\n",
       "  <thead>\n",
       "    <tr style=\"text-align: right;\">\n",
       "      <th></th>\n",
       "      <th>accesos</th>\n",
       "      <th>precio</th>\n",
       "    </tr>\n",
       "  </thead>\n",
       "  <tbody>\n",
       "    <tr>\n",
       "      <th>0</th>\n",
       "      <td>15</td>\n",
       "      <td>107</td>\n",
       "    </tr>\n",
       "    <tr>\n",
       "      <th>1</th>\n",
       "      <td>16</td>\n",
       "      <td>122</td>\n",
       "    </tr>\n",
       "    <tr>\n",
       "      <th>2</th>\n",
       "      <td>16,5</td>\n",
       "      <td>142</td>\n",
       "    </tr>\n",
       "    <tr>\n",
       "      <th>3</th>\n",
       "      <td>17,5</td>\n",
       "      <td>249</td>\n",
       "    </tr>\n",
       "    <tr>\n",
       "      <th>4</th>\n",
       "      <td>18,5</td>\n",
       "      <td>337</td>\n",
       "    </tr>\n",
       "    <tr>\n",
       "      <th>5</th>\n",
       "      <td>19,5</td>\n",
       "      <td>536</td>\n",
       "    </tr>\n",
       "    <tr>\n",
       "      <th>6</th>\n",
       "      <td>20,25</td>\n",
       "      <td>1000</td>\n",
       "    </tr>\n",
       "    <tr>\n",
       "      <th>7</th>\n",
       "      <td>21</td>\n",
       "      <td>1600</td>\n",
       "    </tr>\n",
       "  </tbody>\n",
       "</table>\n",
       "</div>"
      ],
      "text/plain": [
       "  accesos  precio\n",
       "0      15     107\n",
       "1      16     122\n",
       "2    16,5     142\n",
       "3    17,5     249\n",
       "4    18,5     337\n",
       "5    19,5     536\n",
       "6   20,25    1000\n",
       "7      21    1600"
      ]
     },
     "execution_count": 2,
     "metadata": {},
     "output_type": "execute_result"
    }
   ],
   "source": [
    "df = pd.read_csv(\"datasets/meli_accesos.csv\", sep=\";\")\n",
    "df"
   ]
  },
  {
   "cell_type": "markdown",
   "id": "614bec56-615b-4c91-975d-efed8e9f87aa",
   "metadata": {},
   "source": [
    "Transformamos la variable X"
   ]
  },
  {
   "cell_type": "code",
   "execution_count": 3,
   "id": "3efc7790-ea80-4853-bc72-0ebae80b4c2f",
   "metadata": {},
   "outputs": [
    {
     "data": {
      "text/plain": [
       "array([15.  , 16.  , 16.5 , 17.5 , 18.5 , 19.5 , 20.25, 21.  ])"
      ]
     },
     "execution_count": 3,
     "metadata": {},
     "output_type": "execute_result"
    }
   ],
   "source": [
    "X = df[\"accesos\"].str.replace(\",\", \".\").astype(float)\n",
    "X = X.astype(float).to_numpy()\n",
    "X"
   ]
  },
  {
   "cell_type": "markdown",
   "id": "525f4290-a845-404a-bb92-2977ad86c8a6",
   "metadata": {},
   "source": [
    "Transformamos la variable y"
   ]
  },
  {
   "cell_type": "code",
   "execution_count": 4,
   "id": "2798cde0-37b8-4dd6-aaf0-f09fcdd4b8a4",
   "metadata": {},
   "outputs": [
    {
     "data": {
      "text/plain": [
       "array([ 107,  122,  142,  249,  337,  536, 1000, 1600], dtype=int64)"
      ]
     },
     "execution_count": 4,
     "metadata": {},
     "output_type": "execute_result"
    }
   ],
   "source": [
    "y = df[\"precio\"].to_numpy()\n",
    "y"
   ]
  },
  {
   "cell_type": "markdown",
   "id": "f04ddc2d-6142-4fb4-8165-f1fdab5eee54",
   "metadata": {},
   "source": [
    "Importamos el r2_score de sklearn para puntuar la relación entre las dos variables"
   ]
  },
  {
   "cell_type": "code",
   "execution_count": 49,
   "id": "12c4d0cf-704f-4c06-aab3-152fb4457f49",
   "metadata": {},
   "outputs": [
    {
     "name": "stdout",
     "output_type": "stream",
     "text": [
      "0.9625225545800997\n"
     ]
    }
   ],
   "source": [
    "from sklearn.metrics import r2_score\n",
    "mymodel = np.poly1d(np.polyfit(X, y, 2)) #Creamos el modelo\n",
    "myline = np.linspace(15, 25, 20) #Creamos la linea para cruzar en el ploteo\n",
    "print(r2_score(y, mymodel(X))) #Calculamos la relación del modelo."
   ]
  },
  {
   "cell_type": "markdown",
   "id": "c47a7c82-297f-4a11-999e-df192345a6e8",
   "metadata": {},
   "source": [
    "Tenemos una relación de casi 1 a 1. Lo que debería tener una correlación muy fuerte entre el acceso a internet y el precio de la acción"
   ]
  },
  {
   "cell_type": "markdown",
   "id": "ee3742b7-219b-428d-b401-da98cb56abf0",
   "metadata": {},
   "source": [
    "Ploteamos el modelo junto a los datos originales:"
   ]
  },
  {
   "cell_type": "code",
   "execution_count": 50,
   "id": "ebab7c41-81ea-4549-8b34-9e24737f4285",
   "metadata": {},
   "outputs": [
    {
     "data": {
      "image/png": "[encoded data removed]",
      "text/plain": [
       "<Figure size 432x288 with 1 Axes>"
      ]
     },
     "metadata": {
      "needs_background": "light"
     },
     "output_type": "display_data"
    }
   ],
   "source": [
    "plt.scatter(X, y, c=\"red\", label=\"Precio real\")\n",
    "plt.xlabel('Accesos cada 100 habitantes')\n",
    "plt.ylabel(r'Precio (Último)')\n",
    "plt.plot(myline, mymodel(myline), label=\"Proyección\")\n",
    "plt.title(\"Proyección de precio por acceso a internet\")\n",
    "plt.legend()\n",
    "plt.savefig('plot.png', dpi=300, bbox_inches='tight')"
   ]
  },
  {
   "cell_type": "markdown",
   "id": "77413763-8312-4687-8c0b-9dc916dd3351",
   "metadata": {},
   "source": [
    "Exportamos el modelo para su visualización en Tableau:"
   ]
  },
  {
   "cell_type": "code",
   "execution_count": 27,
   "id": "9d99fb0c-f63d-48dc-bb81-9bdc67d662d2",
   "metadata": {},
   "outputs": [
    {
     "data": {
      "text/html": [
       "<div>\n",
       "<style scoped>\n",
       "    .dataframe tbody tr th:only-of-type {\n",
       "        vertical-align: middle;\n",
       "    }\n",
       "\n",
       "    .dataframe tbody tr th {\n",
       "        vertical-align: top;\n",
       "    }\n",
       "\n",
       "    .dataframe thead th {\n",
       "        text-align: right;\n",
       "    }\n",
       "</style>\n",
       "<table border=\"1\" class=\"dataframe\">\n",
       "  <thead>\n",
       "    <tr style=\"text-align: right;\">\n",
       "      <th></th>\n",
       "      <th>0</th>\n",
       "    </tr>\n",
       "  </thead>\n",
       "  <tbody>\n",
       "    <tr>\n",
       "      <th>0</th>\n",
       "      <td>197.092391</td>\n",
       "    </tr>\n",
       "    <tr>\n",
       "      <th>1</th>\n",
       "      <td>114.573155</td>\n",
       "    </tr>\n",
       "    <tr>\n",
       "      <th>2</th>\n",
       "      <td>73.064572</td>\n",
       "    </tr>\n",
       "    <tr>\n",
       "      <th>3</th>\n",
       "      <td>72.566642</td>\n",
       "    </tr>\n",
       "    <tr>\n",
       "      <th>4</th>\n",
       "      <td>113.079365</td>\n",
       "    </tr>\n",
       "    <tr>\n",
       "      <th>5</th>\n",
       "      <td>194.602741</td>\n",
       "    </tr>\n",
       "    <tr>\n",
       "      <th>6</th>\n",
       "      <td>317.136769</td>\n",
       "    </tr>\n",
       "    <tr>\n",
       "      <th>7</th>\n",
       "      <td>480.681451</td>\n",
       "    </tr>\n",
       "    <tr>\n",
       "      <th>8</th>\n",
       "      <td>685.236786</td>\n",
       "    </tr>\n",
       "    <tr>\n",
       "      <th>9</th>\n",
       "      <td>930.802773</td>\n",
       "    </tr>\n",
       "    <tr>\n",
       "      <th>10</th>\n",
       "      <td>1217.379414</td>\n",
       "    </tr>\n",
       "    <tr>\n",
       "      <th>11</th>\n",
       "      <td>1544.966707</td>\n",
       "    </tr>\n",
       "    <tr>\n",
       "      <th>12</th>\n",
       "      <td>1913.564653</td>\n",
       "    </tr>\n",
       "    <tr>\n",
       "      <th>13</th>\n",
       "      <td>2323.173252</td>\n",
       "    </tr>\n",
       "    <tr>\n",
       "      <th>14</th>\n",
       "      <td>2773.792504</td>\n",
       "    </tr>\n",
       "    <tr>\n",
       "      <th>15</th>\n",
       "      <td>3265.422409</td>\n",
       "    </tr>\n",
       "    <tr>\n",
       "      <th>16</th>\n",
       "      <td>3798.062967</td>\n",
       "    </tr>\n",
       "    <tr>\n",
       "      <th>17</th>\n",
       "      <td>4371.714178</td>\n",
       "    </tr>\n",
       "    <tr>\n",
       "      <th>18</th>\n",
       "      <td>4986.376041</td>\n",
       "    </tr>\n",
       "    <tr>\n",
       "      <th>19</th>\n",
       "      <td>5642.048558</td>\n",
       "    </tr>\n",
       "    <tr>\n",
       "      <th>20</th>\n",
       "      <td>6338.731727</td>\n",
       "    </tr>\n",
       "    <tr>\n",
       "      <th>21</th>\n",
       "      <td>7076.425550</td>\n",
       "    </tr>\n",
       "    <tr>\n",
       "      <th>22</th>\n",
       "      <td>7855.130025</td>\n",
       "    </tr>\n",
       "    <tr>\n",
       "      <th>23</th>\n",
       "      <td>8674.845153</td>\n",
       "    </tr>\n",
       "    <tr>\n",
       "      <th>24</th>\n",
       "      <td>9535.570934</td>\n",
       "    </tr>\n",
       "    <tr>\n",
       "      <th>25</th>\n",
       "      <td>10437.307368</td>\n",
       "    </tr>\n",
       "    <tr>\n",
       "      <th>26</th>\n",
       "      <td>11380.054455</td>\n",
       "    </tr>\n",
       "    <tr>\n",
       "      <th>27</th>\n",
       "      <td>12363.812195</td>\n",
       "    </tr>\n",
       "  </tbody>\n",
       "</table>\n",
       "</div>"
      ],
      "text/plain": [
       "               0\n",
       "0     197.092391\n",
       "1     114.573155\n",
       "2      73.064572\n",
       "3      72.566642\n",
       "4     113.079365\n",
       "5     194.602741\n",
       "6     317.136769\n",
       "7     480.681451\n",
       "8     685.236786\n",
       "9     930.802773\n",
       "10   1217.379414\n",
       "11   1544.966707\n",
       "12   1913.564653\n",
       "13   2323.173252\n",
       "14   2773.792504\n",
       "15   3265.422409\n",
       "16   3798.062967\n",
       "17   4371.714178\n",
       "18   4986.376041\n",
       "19   5642.048558\n",
       "20   6338.731727\n",
       "21   7076.425550\n",
       "22   7855.130025\n",
       "23   8674.845153\n",
       "24   9535.570934\n",
       "25  10437.307368\n",
       "26  11380.054455\n",
       "27  12363.812195"
      ]
     },
     "execution_count": 27,
     "metadata": {},
     "output_type": "execute_result"
    }
   ],
   "source": [
    "df_out = pd.DataFrame(mymodel(myline))\n",
    "df_out.to_csv(\"linea_modelo.csv\")\n",
    "df_out"
   ]
  }
 ],
 "metadata": {
  "kernelspec": {
   "display_name": "Python 3",
   "language": "python",
   "name": "python3"
  },
  "language_info": {
   "codemirror_mode": {
    "name": "ipython",
    "version": 3
   },
   "file_extension": ".py",
   "mimetype": "text/x-python",
   "name": "python",
   "nbconvert_exporter": "python",
   "pygments_lexer": "ipython3",
   "version": "3.8.8"
  }
 },
 "nbformat": 4,
 "nbformat_minor": 5
}
